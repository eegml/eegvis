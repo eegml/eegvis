{
 "cells": [
  {
   "cell_type": "markdown",
   "id": "3cbe5b5a",
   "metadata": {
    "slideshow": {
     "slide_type": "slide"
    }
   },
   "source": [
    "## Introduction to visualizing data in the eeghdf files"
   ]
  },
  {
   "cell_type": "code",
   "execution_count": null,
   "id": "c9d9cc52",
   "metadata": {
    "slideshow": {
     "slide_type": "fragment"
    }
   },
   "outputs": [],
   "source": [
    "# %load explore-eeghdf-files-basics.py\n",
    "\n",
    "# Here is an example of how to do basic exploration of what is in the eeghdf file. I show how to discover the fields in the file and to plot them.\n",
    "# \n",
    "# I have copied the stacklineplot from my python-edf/examples code to help with display. Maybe I will put this as a helper or put it out as a utility package to make it easier to install.\n",
    "\n",
    "from __future__ import print_function, division, unicode_literals\n",
    "import os.path\n",
    "\n",
    "get_ipython().run_line_magic('matplotlib', 'inline')\n",
    "%matplotlib notebook\n",
    "\n",
    "\n",
    "import matplotlib\n",
    "import matplotlib.pyplot as plt\n",
    "#import seaborn\n",
    "import pandas as pd\n",
    "import numpy as np\n",
    "import h5py\n",
    "from pprint import pprint\n",
    "\n",
    "import eegvis.stacklineplot as stacklineplot\n",
    "import eegvis.montageview as montageview\n",
    "\n",
    "# matplotlib.rcParams['figure.figsize'] = (18.0, 12.0)\n",
    "matplotlib.rcParams['figure.figsize'] = (12.0, 8.0)\n",
    "\n",
    "ARCHIVEDIR = r'../../eeghdf/data'\n",
    "EEGFILE = os.path.join(ARCHIVEDIR, 'YA2741BS_1-1+.eeghdf')"
   ]
  },
  {
   "cell_type": "code",
   "execution_count": null,
   "id": "3af52bd5",
   "metadata": {},
   "outputs": [],
   "source": [
    "ls ../../eeghdf/data"
   ]
  },
  {
   "cell_type": "code",
   "execution_count": null,
   "id": "13482b69",
   "metadata": {
    "slideshow": {
     "slide_type": "slide"
    }
   },
   "outputs": [],
   "source": [
    "hdf = h5py.File(EEGFILE) "
   ]
  },
  {
   "cell_type": "code",
   "execution_count": null,
   "id": "1e01d164",
   "metadata": {
    "lines_to_next_cell": 2,
    "slideshow": {
     "slide_type": "slide"
    }
   },
   "outputs": [],
   "source": [
    "\n",
    "rec = hdf['record-0']\n",
    "years_old = rec.attrs['patient_age_days']/365\n",
    "pprint(\"age in years: %s\" % years_old)"
   ]
  },
  {
   "cell_type": "code",
   "execution_count": null,
   "id": "69370d57",
   "metadata": {
    "jupyter": {
     "outputs_hidden": true
    },
    "lines_to_next_cell": 2,
    "slideshow": {
     "slide_type": "slide"
    }
   },
   "outputs": [],
   "source": [
    "\n",
    "signals = rec['signals']\n",
    "labels = rec['signal_labels']\n",
    "electrode_labels = [str(s,'ascii') for s in labels]\n",
    "numbered_electrode_labels = [\"%d:%s\" % (ii, str(labels[ii], 'ascii')) for ii in range(len(labels))]"
   ]
  },
  {
   "cell_type": "markdown",
   "id": "4b666613",
   "metadata": {
    "slideshow": {
     "slide_type": "slide"
    }
   },
   "source": [
    "#### Simple visualization of EEG (electrodecrement seizure pattern)"
   ]
  },
  {
   "cell_type": "code",
   "execution_count": null,
   "id": "e50db3f0",
   "metadata": {
    "lines_to_next_cell": 2,
    "slideshow": {
     "slide_type": "fragment"
    }
   },
   "outputs": [],
   "source": [
    "\n",
    "# plot 10s epochs (multiples in DE)\n",
    "ch0, ch1 = (0,19)\n",
    "DE = 2 # how many 10s epochs to display\n",
    "epoch = 53; ptepoch = 10*int(rec.attrs['sample_frequency'])\n",
    "dp = int(0.5*ptepoch)\n",
    "# stacklineplot.stackplot(signals[ch0:ch1,epoch*ptepoch+dp:(epoch+DE)*ptepoch+dp],seconds=DE*10.0, ylabels=electrode_labels[ch0:ch1], yscale=0.3)\n",
    "print(\"epoch:\", epoch)\n",
    "\n",
    "\n",
    "# search identified spasms at 1836, 1871, 1901, 1939\n",
    "stacklineplot.show_epoch_centered(signals, 1836,\n",
    "                        epoch_width_sec=15,\n",
    "                        chstart=0, chstop=19, fs=rec.attrs['sample_frequency'],\n",
    "                        ylabels=electrode_labels, yscale=3.0)"
   ]
  },
  {
   "cell_type": "code",
   "execution_count": null,
   "id": "804eda62",
   "metadata": {},
   "outputs": [],
   "source": [
    "\n",
    "electrode_labels\n",
    "r_labels = [ss.replace('EEG ','') for ss in electrode_labels]\n",
    "r_labels"
   ]
  },
  {
   "cell_type": "code",
   "execution_count": null,
   "id": "ccf85505",
   "metadata": {},
   "outputs": [],
   "source": [
    "montageview.DB_LABELS"
   ]
  },
  {
   "cell_type": "code",
   "execution_count": null,
   "id": "f4f64469",
   "metadata": {
    "jupyter": {
     "outputs_hidden": true
    },
    "lines_to_next_cell": 2
   },
   "outputs": [],
   "source": []
  }
 ],
 "metadata": {
  "kernelspec": {
   "display_name": "pyt16:pytorch 1.6+",
   "language": "python",
   "name": "pyt16"
  }
 },
 "nbformat": 4,
 "nbformat_minor": 5
}
