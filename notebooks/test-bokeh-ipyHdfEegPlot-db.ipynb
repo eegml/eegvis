{
 "cells": [
  {
   "cell_type": "markdown",
   "id": "c0c732ad",
   "metadata": {
    "slideshow": {
     "slide_type": "slide"
    }
   },
   "source": [
    "## Introduction to browsing data in the eeghdf files in the jupyter notebook"
   ]
  },
  {
   "cell_type": "markdown",
   "id": "4dac5240",
   "metadata": {
    "slideshow": {
     "slide_type": "slide"
    }
   },
   "source": [
    "### First import libraries"
   ]
  },
  {
   "cell_type": "code",
   "execution_count": null,
   "id": "ee4df3ca",
   "metadata": {
    "slideshow": {
     "slide_type": "fragment"
    }
   },
   "outputs": [],
   "source": [
    "# %load explore-eeghdf-files-basics.py\n",
    "\n",
    "# Here is an example of how to do basic exploration of what is in the eeghdf file. I show how to discover the fields in the file and to plot them.\n",
    "# \n",
    "# I have copied the stacklineplot from my python-edf/examples code to help with display. Maybe I will put this as a helper or put it out as a utility package to make it easier to install.\n",
    "\n",
    "from __future__ import print_function, division, unicode_literals\n",
    "import os.path\n",
    "import pandas as pd\n",
    "import numpy as np\n",
    "import h5py\n",
    "from pprint import pprint\n",
    "\n",
    "import ipywidgets\n",
    "from IPython.display import display\n",
    "\n",
    "# import eegvis.stacklineplot\n",
    "import eegvis.montageview as montageview\n",
    "import eegvis.stackplot_bokeh as sbokplot\n",
    "from bokeh.io import output_notebook, push_notebook\n",
    "import bokeh.plotting as bplt\n",
    "from bokeh.plotting import show\n",
    "output_notebook()\n",
    "\n",
    "ARCHIVEDIR = r'../../eeghdf/data'\n",
    "EEGFILE = os.path.join(ARCHIVEDIR, 'spasms.eeghdf')\n",
    "\n"
   ]
  },
  {
   "cell_type": "code",
   "execution_count": null,
   "id": "a6d13b81",
   "metadata": {
    "slideshow": {
     "slide_type": "slide"
    }
   },
   "outputs": [],
   "source": [
    "\n",
    "#hdf = h5py.File('./archive/YA2741BS_1-1+.eeghdf') # 5mo boy \n",
    "print(EEGFILE)\n",
    "hdf = h5py.File(EEGFILE) # absence 10yo\n",
    "\n"
   ]
  },
  {
   "cell_type": "code",
   "execution_count": null,
   "id": "eeebe3db",
   "metadata": {},
   "outputs": [],
   "source": [
    "hdf"
   ]
  },
  {
   "cell_type": "code",
   "execution_count": null,
   "id": "4725c1c9",
   "metadata": {},
   "outputs": [],
   "source": [
    "montageview.MONTAGE_BUILTINS"
   ]
  },
  {
   "cell_type": "code",
   "execution_count": null,
   "id": "be08f67c",
   "metadata": {},
   "outputs": [],
   "source": [
    "tracemontage = montageview.MONTAGE_BUILTINS['trace']"
   ]
  },
  {
   "cell_type": "code",
   "execution_count": null,
   "id": "f336de83",
   "metadata": {},
   "outputs": [],
   "source": [
    "tracemontage."
   ]
  },
  {
   "cell_type": "code",
   "execution_count": null,
   "id": "a5e410a7",
   "metadata": {
    "slideshow": {
     "slide_type": "slide"
    }
   },
   "outputs": [],
   "source": [
    "tmp = sbokplot.IpyHdfEegPlot(hdf,page_width_seconds=15, showchannels=(0,19), montage=montageview.MONTAGE_BUILTINS['trace']) # doing this just to make the labels"
   ]
  },
  {
   "cell_type": "code",
   "execution_count": null,
   "id": "727ca751",
   "metadata": {},
   "outputs": [],
   "source": [
    "sbokplot.IpyHdfEegPlot?"
   ]
  },
  {
   "cell_type": "markdown",
   "id": "e42f53a7",
   "metadata": {
    "slideshow": {
     "slide_type": "slide"
    }
   },
   "source": [
    "## Now demonstrate using a double banana montage"
   ]
  },
  {
   "cell_type": "code",
   "execution_count": null,
   "id": "7c10f760",
   "metadata": {
    "lines_to_next_cell": 2,
    "slideshow": {
     "slide_type": "fragment"
    }
   },
   "outputs": [],
   "source": [
    "\n",
    "db = montageview.DoubleBananaMontageView(rec_labels=tmp.ref_labels)\n",
    "inr = sbokplot.IpyHdfEegPlot(hdf,page_width_seconds=15, montage=db)\n",
    "\n",
    "# inr.all_montages.append(db)\n",
    "#inr.current_montage = db"
   ]
  },
  {
   "cell_type": "code",
   "execution_count": null,
   "id": "63252b2b",
   "metadata": {
    "slideshow": {
     "slide_type": "slide"
    }
   },
   "outputs": [],
   "source": [
    "inr.show()"
   ]
  },
  {
   "cell_type": "code",
   "execution_count": null,
   "id": "f5f70995",
   "metadata": {
    "lines_to_next_cell": 2,
    "slideshow": {
     "slide_type": "skip"
    }
   },
   "outputs": [],
   "source": [
    "\n",
    "# you can manipulate the EEG plot directly\n",
    "inr.loc_sec = 600\n",
    "inr.update()"
   ]
  },
  {
   "cell_type": "code",
   "execution_count": null,
   "id": "c2e226b8",
   "metadata": {
    "slideshow": {
     "slide_type": "skip"
    }
   },
   "outputs": [],
   "source": [
    "inr.current_montage.name"
   ]
  },
  {
   "cell_type": "code",
   "execution_count": null,
   "id": "e329be0d",
   "metadata": {
    "slideshow": {
     "slide_type": "skip"
    }
   },
   "outputs": [],
   "source": [
    "hdf.filename"
   ]
  },
  {
   "cell_type": "code",
   "execution_count": null,
   "id": "c1f13cd2",
   "metadata": {},
   "outputs": [],
   "source": [
    "import bokeh\n",
    "bokeh.__version__"
   ]
  },
  {
   "cell_type": "code",
   "execution_count": null,
   "id": "c5dcca84",
   "metadata": {
    "lines_to_next_cell": 2
   },
   "outputs": [],
   "source": []
  }
 ],
 "metadata": {
  "kernelspec": {
   "display_name": "pytorch 1.5+",
   "language": "python",
   "name": "pyt15"
  }
 },
 "nbformat": 4,
 "nbformat_minor": 5
}
